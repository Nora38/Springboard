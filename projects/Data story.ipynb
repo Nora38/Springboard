{
 "cells": [
  {
   "cell_type": "code",
   "execution_count": 1,
   "metadata": {
    "collapsed": true
   },
   "outputs": [],
   "source": [
    "import pandas as pd\n",
    "import numpy as np\n",
    "import matplotlib.pyplot as plt\n",
    "import io\n",
    "import requests"
   ]
  },
  {
   "cell_type": "markdown",
   "metadata": {},
   "source": [
    "Import data from URL"
   ]
  },
  {
   "cell_type": "code",
   "execution_count": 2,
   "metadata": {
    "collapsed": false
   },
   "outputs": [],
   "source": [
    "url=\"http://download.bls.gov/pub/time.series/le/le.data.1.AllData\"\n",
    "s=requests.get(url).content\n",
    "df=pd.read_csv(io.StringIO(s.decode('utf-8')),sep=\"\\t\")"
   ]
  },
  {
   "cell_type": "code",
   "execution_count": 3,
   "metadata": {
    "collapsed": false,
    "scrolled": true
   },
   "outputs": [
    {
     "data": {
      "text/html": [
       "<div>\n",
       "<table border=\"1\" class=\"dataframe\">\n",
       "  <thead>\n",
       "    <tr style=\"text-align: right;\">\n",
       "      <th></th>\n",
       "      <th>series_id</th>\n",
       "      <th>year</th>\n",
       "      <th>period</th>\n",
       "      <th>value</th>\n",
       "      <th>footnote_codes</th>\n",
       "    </tr>\n",
       "  </thead>\n",
       "  <tbody>\n",
       "    <tr>\n",
       "      <th>0</th>\n",
       "      <td>LES1252881500</td>\n",
       "      <td>1979</td>\n",
       "      <td>Q01</td>\n",
       "      <td>232</td>\n",
       "      <td></td>\n",
       "    </tr>\n",
       "    <tr>\n",
       "      <th>1</th>\n",
       "      <td>LES1252881500</td>\n",
       "      <td>1979</td>\n",
       "      <td>Q02</td>\n",
       "      <td>239</td>\n",
       "      <td></td>\n",
       "    </tr>\n",
       "    <tr>\n",
       "      <th>2</th>\n",
       "      <td>LES1252881500</td>\n",
       "      <td>1979</td>\n",
       "      <td>Q03</td>\n",
       "      <td>243</td>\n",
       "      <td></td>\n",
       "    </tr>\n",
       "    <tr>\n",
       "      <th>3</th>\n",
       "      <td>LES1252881500</td>\n",
       "      <td>1979</td>\n",
       "      <td>Q04</td>\n",
       "      <td>248</td>\n",
       "      <td></td>\n",
       "    </tr>\n",
       "    <tr>\n",
       "      <th>4</th>\n",
       "      <td>LES1252881500</td>\n",
       "      <td>1980</td>\n",
       "      <td>Q01</td>\n",
       "      <td>254</td>\n",
       "      <td></td>\n",
       "    </tr>\n",
       "    <tr>\n",
       "      <th>5</th>\n",
       "      <td>LES1252881500</td>\n",
       "      <td>1980</td>\n",
       "      <td>Q02</td>\n",
       "      <td>257</td>\n",
       "      <td></td>\n",
       "    </tr>\n",
       "    <tr>\n",
       "      <th>6</th>\n",
       "      <td>LES1252881500</td>\n",
       "      <td>1980</td>\n",
       "      <td>Q03</td>\n",
       "      <td>266</td>\n",
       "      <td></td>\n",
       "    </tr>\n",
       "    <tr>\n",
       "      <th>7</th>\n",
       "      <td>LES1252881500</td>\n",
       "      <td>1980</td>\n",
       "      <td>Q04</td>\n",
       "      <td>269</td>\n",
       "      <td></td>\n",
       "    </tr>\n",
       "    <tr>\n",
       "      <th>8</th>\n",
       "      <td>LES1252881500</td>\n",
       "      <td>1981</td>\n",
       "      <td>Q01</td>\n",
       "      <td>276</td>\n",
       "      <td></td>\n",
       "    </tr>\n",
       "    <tr>\n",
       "      <th>9</th>\n",
       "      <td>LES1252881500</td>\n",
       "      <td>1981</td>\n",
       "      <td>Q02</td>\n",
       "      <td>279</td>\n",
       "      <td></td>\n",
       "    </tr>\n",
       "  </tbody>\n",
       "</table>\n",
       "</div>"
      ],
      "text/plain": [
       "           series_id  year period         value footnote_codes\n",
       "0  LES1252881500      1979    Q01           232               \n",
       "1  LES1252881500      1979    Q02           239               \n",
       "2  LES1252881500      1979    Q03           243               \n",
       "3  LES1252881500      1979    Q04           248               \n",
       "4  LES1252881500      1980    Q01           254               \n",
       "5  LES1252881500      1980    Q02           257               \n",
       "6  LES1252881500      1980    Q03           266               \n",
       "7  LES1252881500      1980    Q04           269               \n",
       "8  LES1252881500      1981    Q01           276               \n",
       "9  LES1252881500      1981    Q02           279               "
      ]
     },
     "execution_count": 3,
     "metadata": {},
     "output_type": "execute_result"
    }
   ],
   "source": [
    "df.head(10)"
   ]
  },
  {
   "cell_type": "code",
   "execution_count": 4,
   "metadata": {
    "collapsed": false
   },
   "outputs": [
    {
     "data": {
      "text/plain": [
       "series_id         object\n",
       "year               int64\n",
       "period            object\n",
       "value             object\n",
       "footnote_codes    object\n",
       "dtype: object"
      ]
     },
     "execution_count": 4,
     "metadata": {},
     "output_type": "execute_result"
    }
   ],
   "source": [
    "df.columns\n",
    "df.dtypes"
   ]
  },
  {
   "cell_type": "code",
   "execution_count": 5,
   "metadata": {
    "collapsed": false
   },
   "outputs": [
    {
     "data": {
      "text/html": [
       "<div>\n",
       "<table border=\"1\" class=\"dataframe\">\n",
       "  <thead>\n",
       "    <tr style=\"text-align: right;\">\n",
       "      <th></th>\n",
       "      <th>series_id</th>\n",
       "      <th>year</th>\n",
       "      <th>period</th>\n",
       "      <th>value</th>\n",
       "      <th>footnote_codes</th>\n",
       "    </tr>\n",
       "  </thead>\n",
       "  <tbody>\n",
       "    <tr>\n",
       "      <th>1638</th>\n",
       "      <td>LEU0203128000</td>\n",
       "      <td>2000</td>\n",
       "      <td>A01</td>\n",
       "      <td>387</td>\n",
       "      <td></td>\n",
       "    </tr>\n",
       "    <tr>\n",
       "      <th>1639</th>\n",
       "      <td>LEU0203128000</td>\n",
       "      <td>2001</td>\n",
       "      <td>A01</td>\n",
       "      <td>289</td>\n",
       "      <td></td>\n",
       "    </tr>\n",
       "    <tr>\n",
       "      <th>1640</th>\n",
       "      <td>LEU0203128000</td>\n",
       "      <td>2002</td>\n",
       "      <td>A01</td>\n",
       "      <td>231</td>\n",
       "      <td></td>\n",
       "    </tr>\n",
       "    <tr>\n",
       "      <th>1641</th>\n",
       "      <td>LEU0203128000</td>\n",
       "      <td>2003</td>\n",
       "      <td>A01</td>\n",
       "      <td>215</td>\n",
       "      <td></td>\n",
       "    </tr>\n",
       "    <tr>\n",
       "      <th>1642</th>\n",
       "      <td>LEU0203128000</td>\n",
       "      <td>2004</td>\n",
       "      <td>A01</td>\n",
       "      <td>249</td>\n",
       "      <td></td>\n",
       "    </tr>\n",
       "    <tr>\n",
       "      <th>1643</th>\n",
       "      <td>LEU0203128000</td>\n",
       "      <td>2005</td>\n",
       "      <td>A01</td>\n",
       "      <td>196</td>\n",
       "      <td></td>\n",
       "    </tr>\n",
       "    <tr>\n",
       "      <th>1644</th>\n",
       "      <td>LEU0203128000</td>\n",
       "      <td>2006</td>\n",
       "      <td>A01</td>\n",
       "      <td>162</td>\n",
       "      <td></td>\n",
       "    </tr>\n",
       "    <tr>\n",
       "      <th>1645</th>\n",
       "      <td>LEU0203128000</td>\n",
       "      <td>2007</td>\n",
       "      <td>A01</td>\n",
       "      <td>122</td>\n",
       "      <td></td>\n",
       "    </tr>\n",
       "    <tr>\n",
       "      <th>1646</th>\n",
       "      <td>LEU0203128000</td>\n",
       "      <td>2008</td>\n",
       "      <td>A01</td>\n",
       "      <td>125</td>\n",
       "      <td></td>\n",
       "    </tr>\n",
       "    <tr>\n",
       "      <th>1647</th>\n",
       "      <td>LEU0203128000</td>\n",
       "      <td>2009</td>\n",
       "      <td>A01</td>\n",
       "      <td>472</td>\n",
       "      <td></td>\n",
       "    </tr>\n",
       "  </tbody>\n",
       "</table>\n",
       "</div>"
      ],
      "text/plain": [
       "          series_id  year period         value footnote_codes\n",
       "1638  LEU0203128000  2000    A01           387               \n",
       "1639  LEU0203128000  2001    A01           289               \n",
       "1640  LEU0203128000  2002    A01           231               \n",
       "1641  LEU0203128000  2003    A01           215               \n",
       "1642  LEU0203128000  2004    A01           249               \n",
       "1643  LEU0203128000  2005    A01           196               \n",
       "1644  LEU0203128000  2006    A01           162               \n",
       "1645  LEU0203128000  2007    A01           122               \n",
       "1646  LEU0203128000  2008    A01           125               \n",
       "1647  LEU0203128000  2009    A01           472               "
      ]
     },
     "execution_count": 5,
     "metadata": {},
     "output_type": "execute_result"
    }
   ],
   "source": [
    "df['series_id']=df['series_id'].astype('category')\n",
    "df['series_id']=df['series_id'].str.strip()\n",
    "df2=df[df['series_id'].isin(['LES1252881500BLA','LES1252882700ABC','LEU0203128000'])]\n",
    "df2.head(10)"
   ]
  },
  {
   "cell_type": "code",
   "execution_count": 6,
   "metadata": {
    "collapsed": false
   },
   "outputs": [],
   "source": [
    "df.value=pd.to_numeric(df.value, errors='coerce')"
   ]
  },
  {
   "cell_type": "code",
   "execution_count": null,
   "metadata": {
    "collapsed": true
   },
   "outputs": [],
   "source": []
  }
 ],
 "metadata": {
  "kernelspec": {
   "display_name": "Python 2",
   "language": "python",
   "name": "python2"
  },
  "language_info": {
   "codemirror_mode": {
    "name": "ipython",
    "version": 2
   },
   "file_extension": ".py",
   "mimetype": "text/x-python",
   "name": "python",
   "nbconvert_exporter": "python",
   "pygments_lexer": "ipython2",
   "version": "2.7.11"
  }
 },
 "nbformat": 4,
 "nbformat_minor": 0
}

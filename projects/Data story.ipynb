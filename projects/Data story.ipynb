{
 "cells": [
  {
   "cell_type": "code",
   "execution_count": 1,
   "metadata": {
    "collapsed": false
   },
   "outputs": [],
   "source": [
    "import pandas as pd\n",
    "import numpy as np\n",
    "import matplotlib.pyplot as plt\n",
    "import seaborn as sns\n",
    "import io\n",
    "import requests\n",
    "\n",
    "%matplotlib inline"
   ]
  },
  {
   "cell_type": "code",
   "execution_count": 2,
   "metadata": {
    "collapsed": false
   },
   "outputs": [],
   "source": [
    "#Import data for what series I need, filter out relevant series only\n",
    "url=\"http://download.bls.gov/pub/time.series/le/le.series\"\n",
    "s=requests.get(url).content\n",
    "\n",
    "#filter and set to correct types\n",
    "series_id=pd.read_csv(io.StringIO(s.decode('utf-8')),sep=\"\\t\")\n",
    "series_id['seasonal']=series_id['seasonal'].astype('str')\n",
    "series_id['seasonal']=series_id['seasonal'].str.strip()\n",
    "series_id['series_id']=series_id['series_id'].astype('category')\n",
    "series_id['series_id']=series_id['series_id'].str.strip()\n",
    "\n",
    "series_id2=series_id[(series_id.lfst_code==25)&\n",
    "                    (series_id.fips_code==0)&\n",
    "                    (series_id.tdata_code==0)&\n",
    "                    (series_id.pcts_code==0)&\n",
    "                    (series_id.earn_code==1)&\n",
    "                    (series_id.class_code==16)&\n",
    "                    (series_id.unin_code==0)&\n",
    "                    (series_id.indy_code==0)&\n",
    "                    (series_id.occupation_code==0)&\n",
    "                    (series_id.education_code==0)&\n",
    "                    (series_id.ages_code<>0)&(series_id.ages_code<>10)&(series_id.ages_code<>28)&\n",
    "                    (series_id.race_code==0)&\n",
    "                    (series_id.orig_code==0)&\n",
    "                    (series_id.born_code==0)&\n",
    "                    (series_id.sexs_code<>0)&\n",
    "                    (series_id.seasonal=='U')]\n",
    "series_id2=series_id2.loc[:,['series_id','sexs_code','ages_code','earn_code']]"
   ]
  },
  {
   "cell_type": "code",
   "execution_count": 3,
   "metadata": {
    "collapsed": false
   },
   "outputs": [],
   "source": [
    "#import data set and filter out relevant series\n",
    "url=\"http://download.bls.gov/pub/time.series/le/le.data.1.AllData\"\n",
    "s=requests.get(url).content\n",
    "df=pd.read_csv(io.StringIO(s.decode('utf-8')),sep=\"\\t\")\n",
    "df['series_id']=df['series_id'].astype('category')\n",
    "df['series_id']=df['series_id'].str.strip()\n",
    "df=df[df['series_id'].isin(series_id2['series_id'])]\n",
    "df=df[(df.year>1990)&(df.period=='Q05')]\n",
    "df['value']=pd.to_numeric(df['value'],errors='coerce')"
   ]
  },
  {
   "cell_type": "code",
   "execution_count": 4,
   "metadata": {
    "collapsed": false
   },
   "outputs": [],
   "source": [
    "#merge with series, ages and sexs\n",
    "df2=pd.merge(df,series_id2, on='series_id')\n",
    "\n",
    "url=\"http://download.bls.gov/pub/time.series/le/le.ages\"\n",
    "s=requests.get(url).content\n",
    "ages=pd.read_csv(io.StringIO(s.decode('utf-8')),sep=\"\\t\",index_col=False)\n",
    "df2=pd.merge(df2,ages, on='ages_code')\n",
    "\n",
    "url=\"http://download.bls.gov/pub/time.series/le/le.sexs\"\n",
    "s=requests.get(url).content\n",
    "sexs=pd.read_csv(io.StringIO(s.decode('utf-8')),sep=\"\\t\",index_col=False)\n",
    "df2=pd.merge(df2,sexs, on='sexs_code')"
   ]
  },
  {
   "cell_type": "code",
   "execution_count": 49,
   "metadata": {
    "collapsed": false
   },
   "outputs": [
    {
     "data": {
      "text/html": [
       "<div>\n",
       "<table border=\"1\" class=\"dataframe\">\n",
       "  <thead>\n",
       "    <tr style=\"text-align: right;\">\n",
       "      <th></th>\n",
       "      <th>sexs_text</th>\n",
       "      <th>Men</th>\n",
       "      <th>Women</th>\n",
       "      <th>percentage</th>\n",
       "    </tr>\n",
       "    <tr>\n",
       "      <th>year</th>\n",
       "      <th>ages_text</th>\n",
       "      <th></th>\n",
       "      <th></th>\n",
       "      <th></th>\n",
       "    </tr>\n",
       "  </thead>\n",
       "  <tbody>\n",
       "    <tr>\n",
       "      <th rowspan=\"7\" valign=\"top\">1991</th>\n",
       "      <th>16 to 19 years</th>\n",
       "      <td>219</td>\n",
       "      <td>205</td>\n",
       "      <td>0.936073</td>\n",
       "    </tr>\n",
       "    <tr>\n",
       "      <th>20 to 24 years</th>\n",
       "      <td>300</td>\n",
       "      <td>280</td>\n",
       "      <td>0.933333</td>\n",
       "    </tr>\n",
       "    <tr>\n",
       "      <th>25 to 34 years</th>\n",
       "      <td>458</td>\n",
       "      <td>371</td>\n",
       "      <td>0.810044</td>\n",
       "    </tr>\n",
       "    <tr>\n",
       "      <th>35 to 44 years</th>\n",
       "      <td>576</td>\n",
       "      <td>407</td>\n",
       "      <td>0.706597</td>\n",
       "    </tr>\n",
       "    <tr>\n",
       "      <th>45 to 54 years</th>\n",
       "      <td>612</td>\n",
       "      <td>398</td>\n",
       "      <td>0.650327</td>\n",
       "    </tr>\n",
       "    <tr>\n",
       "      <th>55 to 64 years</th>\n",
       "      <td>563</td>\n",
       "      <td>363</td>\n",
       "      <td>0.644760</td>\n",
       "    </tr>\n",
       "    <tr>\n",
       "      <th>65 years and over</th>\n",
       "      <td>467</td>\n",
       "      <td>319</td>\n",
       "      <td>0.683084</td>\n",
       "    </tr>\n",
       "    <tr>\n",
       "      <th rowspan=\"7\" valign=\"top\">1992</th>\n",
       "      <th>16 to 19 years</th>\n",
       "      <td>218</td>\n",
       "      <td>205</td>\n",
       "      <td>0.940367</td>\n",
       "    </tr>\n",
       "    <tr>\n",
       "      <th>20 to 24 years</th>\n",
       "      <td>297</td>\n",
       "      <td>280</td>\n",
       "      <td>0.942761</td>\n",
       "    </tr>\n",
       "    <tr>\n",
       "      <th>25 to 34 years</th>\n",
       "      <td>466</td>\n",
       "      <td>382</td>\n",
       "      <td>0.819742</td>\n",
       "    </tr>\n",
       "    <tr>\n",
       "      <th>35 to 44 years</th>\n",
       "      <td>581</td>\n",
       "      <td>418</td>\n",
       "      <td>0.719449</td>\n",
       "    </tr>\n",
       "    <tr>\n",
       "      <th>45 to 54 years</th>\n",
       "      <td>634</td>\n",
       "      <td>417</td>\n",
       "      <td>0.657729</td>\n",
       "    </tr>\n",
       "    <tr>\n",
       "      <th>55 to 64 years</th>\n",
       "      <td>579</td>\n",
       "      <td>376</td>\n",
       "      <td>0.649396</td>\n",
       "    </tr>\n",
       "    <tr>\n",
       "      <th>65 years and over</th>\n",
       "      <td>421</td>\n",
       "      <td>328</td>\n",
       "      <td>0.779097</td>\n",
       "    </tr>\n",
       "    <tr>\n",
       "      <th rowspan=\"6\" valign=\"top\">1993</th>\n",
       "      <th>16 to 19 years</th>\n",
       "      <td>221</td>\n",
       "      <td>205</td>\n",
       "      <td>0.927602</td>\n",
       "    </tr>\n",
       "    <tr>\n",
       "      <th>20 to 24 years</th>\n",
       "      <td>303</td>\n",
       "      <td>289</td>\n",
       "      <td>0.953795</td>\n",
       "    </tr>\n",
       "    <tr>\n",
       "      <th>25 to 34 years</th>\n",
       "      <td>476</td>\n",
       "      <td>395</td>\n",
       "      <td>0.829832</td>\n",
       "    </tr>\n",
       "    <tr>\n",
       "      <th>35 to 44 years</th>\n",
       "      <td>596</td>\n",
       "      <td>435</td>\n",
       "      <td>0.729866</td>\n",
       "    </tr>\n",
       "    <tr>\n",
       "      <th>45 to 54 years</th>\n",
       "      <td>653</td>\n",
       "      <td>440</td>\n",
       "      <td>0.673813</td>\n",
       "    </tr>\n",
       "    <tr>\n",
       "      <th>55 to 64 years</th>\n",
       "      <td>586</td>\n",
       "      <td>395</td>\n",
       "      <td>0.674061</td>\n",
       "    </tr>\n",
       "  </tbody>\n",
       "</table>\n",
       "</div>"
      ],
      "text/plain": [
       "sexs_text               Men  Women  percentage\n",
       "year ages_text                                \n",
       "1991 16 to 19 years     219    205    0.936073\n",
       "     20 to 24 years     300    280    0.933333\n",
       "     25 to 34 years     458    371    0.810044\n",
       "     35 to 44 years     576    407    0.706597\n",
       "     45 to 54 years     612    398    0.650327\n",
       "     55 to 64 years     563    363    0.644760\n",
       "     65 years and over  467    319    0.683084\n",
       "1992 16 to 19 years     218    205    0.940367\n",
       "     20 to 24 years     297    280    0.942761\n",
       "     25 to 34 years     466    382    0.819742\n",
       "     35 to 44 years     581    418    0.719449\n",
       "     45 to 54 years     634    417    0.657729\n",
       "     55 to 64 years     579    376    0.649396\n",
       "     65 years and over  421    328    0.779097\n",
       "1993 16 to 19 years     221    205    0.927602\n",
       "     20 to 24 years     303    289    0.953795\n",
       "     25 to 34 years     476    395    0.829832\n",
       "     35 to 44 years     596    435    0.729866\n",
       "     45 to 54 years     653    440    0.673813\n",
       "     55 to 64 years     586    395    0.674061"
      ]
     },
     "execution_count": 49,
     "metadata": {},
     "output_type": "execute_result"
    }
   ],
   "source": [
    "pivot=pd.pivot_table(df2[df2.year>1990], values='value', index=['year','ages_text'], columns=['sexs_text'])\n",
    "pivot['percentage']=pivot.Women/pivot.Men\n",
    "pivot.head(20)"
   ]
  },
  {
   "cell_type": "code",
   "execution_count": 46,
   "metadata": {
    "collapsed": false
   },
   "outputs": [
    {
     "data": {
      "text/plain": [
       "Int64Index([  0,   1,   2,   3,   4,   5,   6,   7,   8,   9,\n",
       "            ...\n",
       "            197, 198, 199, 200, 201, 202, 203, 204, 205, 206],\n",
       "           dtype='int64', length=207)"
      ]
     },
     "execution_count": 46,
     "metadata": {},
     "output_type": "execute_result"
    }
   ],
   "source": []
  },
  {
   "cell_type": "code",
   "execution_count": null,
   "metadata": {
    "collapsed": true
   },
   "outputs": [],
   "source": []
  },
  {
   "cell_type": "code",
   "execution_count": null,
   "metadata": {
    "collapsed": true
   },
   "outputs": [],
   "source": []
  },
  {
   "cell_type": "code",
   "execution_count": 48,
   "metadata": {
    "collapsed": false
   },
   "outputs": [
    {
     "data": {
      "image/png": "[encoded data removed]",
      "text/plain": [
       "<matplotlib.figure.Figure at 0x1188a4550>"
      ]
     },
     "metadata": {},
     "output_type": "display_data"
    }
   ],
   "source": [
    "# Draw a nested barplot to show survival for class and sex\n",
    "plot1 = sns.factorplot(x=\"ages_text\", y=\"value\", hue=\"sexs_text\", data=df2[df2.year==2015],\n",
    "                   size=6, kind=\"bar\", palette=\"muted\")"
   ]
  },
  {
   "cell_type": "code",
   "execution_count": 6,
   "metadata": {
    "collapsed": false,
    "scrolled": true
   },
   "outputs": [
    {
     "data": {
      "image/png": "[encoded data removed]",
      "text/plain": [
       "<matplotlib.figure.Figure at 0x118288910>"
      ]
     },
     "metadata": {},
     "output_type": "display_data"
    }
   ],
   "source": [
    "plt.figure()\n",
    "plt.plot(df2.ages_code*10+df2.sexs_code,df2.value,\".\")\n",
    "plt.show()"
   ]
  },
  {
   "cell_type": "code",
   "execution_count": null,
   "metadata": {
    "collapsed": true
   },
   "outputs": [],
   "source": []
  }
 ],
 "metadata": {
  "kernelspec": {
   "display_name": "Python 2",
   "language": "python",
   "name": "python2"
  },
  "language_info": {
   "codemirror_mode": {
    "name": "ipython",
    "version": 2
   },
   "file_extension": ".py",
   "mimetype": "text/x-python",
   "name": "python",
   "nbconvert_exporter": "python",
   "pygments_lexer": "ipython2",
   "version": "2.7.11"
  }
 },
 "nbformat": 4,
 "nbformat_minor": 0
}

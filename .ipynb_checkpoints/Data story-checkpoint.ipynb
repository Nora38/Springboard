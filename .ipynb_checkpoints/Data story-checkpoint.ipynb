{
 "cells": [
  {
   "cell_type": "code",
   "execution_count": 1,
   "metadata": {
    "collapsed": true
   },
   "outputs": [],
   "source": [
    "import pandas as pd\n",
    "import numpy as np\n",
    "import matplotlib.pyplot as plt\n",
    "import io\n",
    "import requests"
   ]
  },
  {
   "cell_type": "markdown",
   "metadata": {},
   "source": [
    "Import data from URL"
   ]
  },
  {
   "cell_type": "code",
   "execution_count": 2,
   "metadata": {
    "collapsed": false
   },
   "outputs": [],
   "source": [
    "url=\"http://download.bls.gov/pub/time.series/le/le.series\"\n",
    "s=requests.get(url).content\n",
    "df=pd.read_csv(io.StringIO(s.decode('utf-8')),sep=\"\\t\")"
   ]
  },
  {
   "cell_type": "code",
   "execution_count": 5,
   "metadata": {
    "collapsed": false
   },
   "outputs": [
    {
     "data": {
      "text/html": [
       "<div>\n",
       "<table border=\"1\" class=\"dataframe\">\n",
       "  <thead>\n",
       "    <tr style=\"text-align: right;\">\n",
       "      <th></th>\n",
       "      <th>series_id</th>\n",
       "      <th>lfst_code</th>\n",
       "      <th>fips_code</th>\n",
       "      <th>series_title</th>\n",
       "      <th>tdata_code</th>\n",
       "      <th>pcts_code</th>\n",
       "      <th>earn_code</th>\n",
       "      <th>class_code</th>\n",
       "      <th>unin_code</th>\n",
       "      <th>indy_code</th>\n",
       "      <th>...</th>\n",
       "      <th>race_code</th>\n",
       "      <th>orig_code</th>\n",
       "      <th>sexs_code</th>\n",
       "      <th>born_code</th>\n",
       "      <th>seasonal</th>\n",
       "      <th>footnote_codes</th>\n",
       "      <th>begin_year</th>\n",
       "      <th>begin_period</th>\n",
       "      <th>end_year</th>\n",
       "      <th>end_period</th>\n",
       "    </tr>\n",
       "  </thead>\n",
       "  <tbody>\n",
       "    <tr>\n",
       "      <th>0</th>\n",
       "      <td>LES1252881500</td>\n",
       "      <td>25</td>\n",
       "      <td>0</td>\n",
       "      <td>(Seas)- Median usual weekly earnings (second q...</td>\n",
       "      <td>0</td>\n",
       "      <td>0</td>\n",
       "      <td>1</td>\n",
       "      <td>16</td>\n",
       "      <td>0</td>\n",
       "      <td>0</td>\n",
       "      <td>...</td>\n",
       "      <td>0</td>\n",
       "      <td>0</td>\n",
       "      <td>0</td>\n",
       "      <td>0</td>\n",
       "      <td>S</td>\n",
       "      <td></td>\n",
       "      <td>1979</td>\n",
       "      <td>Q01</td>\n",
       "      <td>2016</td>\n",
       "      <td>Q01</td>\n",
       "    </tr>\n",
       "    <tr>\n",
       "      <th>1</th>\n",
       "      <td>LES1252881600</td>\n",
       "      <td>25</td>\n",
       "      <td>0</td>\n",
       "      <td>(Seas)- Constant (1982-84) dollar adjusted to ...</td>\n",
       "      <td>0</td>\n",
       "      <td>0</td>\n",
       "      <td>2</td>\n",
       "      <td>16</td>\n",
       "      <td>0</td>\n",
       "      <td>0</td>\n",
       "      <td>...</td>\n",
       "      <td>0</td>\n",
       "      <td>0</td>\n",
       "      <td>0</td>\n",
       "      <td>0</td>\n",
       "      <td>S</td>\n",
       "      <td></td>\n",
       "      <td>1979</td>\n",
       "      <td>Q01</td>\n",
       "      <td>2016</td>\n",
       "      <td>Q01</td>\n",
       "    </tr>\n",
       "    <tr>\n",
       "      <th>2</th>\n",
       "      <td>LES1252881800</td>\n",
       "      <td>25</td>\n",
       "      <td>0</td>\n",
       "      <td>(Seas)- Median usual weekly earnings (second q...</td>\n",
       "      <td>0</td>\n",
       "      <td>0</td>\n",
       "      <td>1</td>\n",
       "      <td>16</td>\n",
       "      <td>0</td>\n",
       "      <td>0</td>\n",
       "      <td>...</td>\n",
       "      <td>0</td>\n",
       "      <td>0</td>\n",
       "      <td>1</td>\n",
       "      <td>0</td>\n",
       "      <td>S</td>\n",
       "      <td></td>\n",
       "      <td>1979</td>\n",
       "      <td>Q01</td>\n",
       "      <td>2016</td>\n",
       "      <td>Q01</td>\n",
       "    </tr>\n",
       "    <tr>\n",
       "      <th>3</th>\n",
       "      <td>LES1252881900</td>\n",
       "      <td>25</td>\n",
       "      <td>0</td>\n",
       "      <td>(Seas)- Constant (1982-84) dollar adjusted to ...</td>\n",
       "      <td>0</td>\n",
       "      <td>0</td>\n",
       "      <td>2</td>\n",
       "      <td>16</td>\n",
       "      <td>0</td>\n",
       "      <td>0</td>\n",
       "      <td>...</td>\n",
       "      <td>0</td>\n",
       "      <td>0</td>\n",
       "      <td>1</td>\n",
       "      <td>0</td>\n",
       "      <td>S</td>\n",
       "      <td></td>\n",
       "      <td>1979</td>\n",
       "      <td>Q01</td>\n",
       "      <td>2016</td>\n",
       "      <td>Q01</td>\n",
       "    </tr>\n",
       "    <tr>\n",
       "      <th>4</th>\n",
       "      <td>LES1252882700</td>\n",
       "      <td>25</td>\n",
       "      <td>0</td>\n",
       "      <td>(Seas)- Median usual weekly earnings (second q...</td>\n",
       "      <td>0</td>\n",
       "      <td>0</td>\n",
       "      <td>1</td>\n",
       "      <td>16</td>\n",
       "      <td>0</td>\n",
       "      <td>0</td>\n",
       "      <td>...</td>\n",
       "      <td>0</td>\n",
       "      <td>0</td>\n",
       "      <td>2</td>\n",
       "      <td>0</td>\n",
       "      <td>S</td>\n",
       "      <td></td>\n",
       "      <td>1979</td>\n",
       "      <td>Q01</td>\n",
       "      <td>2016</td>\n",
       "      <td>Q01</td>\n",
       "    </tr>\n",
       "  </tbody>\n",
       "</table>\n",
       "<p>5 rows × 23 columns</p>\n",
       "</div>"
      ],
      "text/plain": [
       "           series_id  lfst_code  fips_code  \\\n",
       "0  LES1252881500             25          0   \n",
       "1  LES1252881600             25          0   \n",
       "2  LES1252881800             25          0   \n",
       "3  LES1252881900             25          0   \n",
       "4  LES1252882700             25          0   \n",
       "\n",
       "                                        series_title  tdata_code  pcts_code  \\\n",
       "0  (Seas)- Median usual weekly earnings (second q...           0          0   \n",
       "1  (Seas)- Constant (1982-84) dollar adjusted to ...           0          0   \n",
       "2  (Seas)- Median usual weekly earnings (second q...           0          0   \n",
       "3  (Seas)- Constant (1982-84) dollar adjusted to ...           0          0   \n",
       "4  (Seas)- Median usual weekly earnings (second q...           0          0   \n",
       "\n",
       "   earn_code  class_code  unin_code  indy_code     ...      race_code  \\\n",
       "0          1          16          0          0     ...              0   \n",
       "1          2          16          0          0     ...              0   \n",
       "2          1          16          0          0     ...              0   \n",
       "3          2          16          0          0     ...              0   \n",
       "4          1          16          0          0     ...              0   \n",
       "\n",
       "   orig_code  sexs_code  born_code  seasonal  footnote_codes  begin_year  \\\n",
       "0          0          0          0         S                        1979   \n",
       "1          0          0          0         S                        1979   \n",
       "2          0          1          0         S                        1979   \n",
       "3          0          1          0         S                        1979   \n",
       "4          0          2          0         S                        1979   \n",
       "\n",
       "  begin_period end_year  end_period  \n",
       "0          Q01     2016         Q01  \n",
       "1          Q01     2016         Q01  \n",
       "2          Q01     2016         Q01  \n",
       "3          Q01     2016         Q01  \n",
       "4          Q01     2016         Q01  \n",
       "\n",
       "[5 rows x 23 columns]"
      ]
     },
     "execution_count": 5,
     "metadata": {},
     "output_type": "execute_result"
    }
   ],
   "source": [
    "df.head(5)"
   ]
  },
  {
   "cell_type": "code",
   "execution_count": 6,
   "metadata": {
    "collapsed": false
   },
   "outputs": [
    {
     "data": {
      "text/plain": [
       "Index([u'series_id', u'lfst_code', u'fips_code', u'series_title',\n",
       "       u'tdata_code', u'pcts_code', u'earn_code', u'class_code', u'unin_code',\n",
       "       u'indy_code', u'occupation_code', u'education_code', u'ages_code',\n",
       "       u'race_code', u'orig_code', u'sexs_code', u'born_code', u'seasonal',\n",
       "       u'footnote_codes', u'begin_year', u'begin_period', u'end_year',\n",
       "       u'end_period'],\n",
       "      dtype='object')"
      ]
     },
     "execution_count": 6,
     "metadata": {},
     "output_type": "execute_result"
    }
   ],
   "source": [
    "df.columns"
   ]
  },
  {
   "cell_type": "code",
   "execution_count": null,
   "metadata": {
    "collapsed": true
   },
   "outputs": [],
   "source": []
  }
 ],
 "metadata": {
  "kernelspec": {
   "display_name": "Python 2",
   "language": "python",
   "name": "python2"
  },
  "language_info": {
   "codemirror_mode": {
    "name": "ipython",
    "version": 2
   },
   "file_extension": ".py",
   "mimetype": "text/x-python",
   "name": "python",
   "nbconvert_exporter": "python",
   "pygments_lexer": "ipython2",
   "version": "2.7.11"
  }
 },
 "nbformat": 4,
 "nbformat_minor": 0
}
